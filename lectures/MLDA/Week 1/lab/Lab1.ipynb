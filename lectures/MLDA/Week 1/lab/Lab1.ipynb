{
 "cells": [
  {
   "cell_type": "markdown",
   "metadata": {},
   "source": [
    "# Lab Sheet 1"
   ]
  },
  {
   "cell_type": "markdown",
   "metadata": {},
   "source": [
    "This is an introduction into standard libraries used in ML and how to load an existing data set."
   ]
  },
  {
   "cell_type": "markdown",
   "metadata": {},
   "source": [
    "## Libraries"
   ]
  },
  {
   "cell_type": "code",
   "execution_count": null,
   "metadata": {},
   "outputs": [],
   "source": [
    "import numpy as np # linear algebra\n",
    "import pandas as pd # data processing, CSV file I/O (e.g. pd.read_csv)\n",
    "import matplotlib.pyplot as plt\n",
    "import seaborn as sns"
   ]
  },
  {
   "cell_type": "markdown",
   "metadata": {},
   "source": [
    "## Loading the data"
   ]
  },
  {
   "cell_type": "code",
   "execution_count": null,
   "metadata": {},
   "outputs": [],
   "source": [
    "# read csv (comma separated value) into data\n",
    "data = pd.read_csv('loans.csv')\n",
    "print(plt.style.available) # look at available plot styles\n",
    "plt.style.use('ggplot')"
   ]
  },
  {
   "cell_type": "code",
   "execution_count": 66,
   "metadata": {},
   "outputs": [
    {
     "data": {
      "text/html": [
       "<div>\n",
       "<style scoped>\n",
       "    .dataframe tbody tr th:only-of-type {\n",
       "        vertical-align: middle;\n",
       "    }\n",
       "\n",
       "    .dataframe tbody tr th {\n",
       "        vertical-align: top;\n",
       "    }\n",
       "\n",
       "    .dataframe thead th {\n",
       "        text-align: right;\n",
       "    }\n",
       "</style>\n",
       "<table border=\"1\" class=\"dataframe\">\n",
       "  <thead>\n",
       "    <tr style=\"text-align: right;\">\n",
       "      <th></th>\n",
       "      <th>ID</th>\n",
       "      <th>Amount</th>\n",
       "      <th>Salary</th>\n",
       "      <th>Loan-Salary Ratio</th>\n",
       "      <th>Age</th>\n",
       "      <th>Occupation</th>\n",
       "      <th>Property</th>\n",
       "      <th>Type</th>\n",
       "      <th>Outcome</th>\n",
       "    </tr>\n",
       "  </thead>\n",
       "  <tbody>\n",
       "    <tr>\n",
       "      <th>0</th>\n",
       "      <td>1</td>\n",
       "      <td>245100</td>\n",
       "      <td>66400</td>\n",
       "      <td>3.69</td>\n",
       "      <td>44</td>\n",
       "      <td>industrial</td>\n",
       "      <td>farm</td>\n",
       "      <td>stb</td>\n",
       "      <td>repay</td>\n",
       "    </tr>\n",
       "    <tr>\n",
       "      <th>1</th>\n",
       "      <td>2</td>\n",
       "      <td>90600</td>\n",
       "      <td>75300</td>\n",
       "      <td>1.20</td>\n",
       "      <td>41</td>\n",
       "      <td>industrial</td>\n",
       "      <td>farm</td>\n",
       "      <td>stb</td>\n",
       "      <td>repay</td>\n",
       "    </tr>\n",
       "    <tr>\n",
       "      <th>2</th>\n",
       "      <td>3</td>\n",
       "      <td>195600</td>\n",
       "      <td>52100</td>\n",
       "      <td>3.75</td>\n",
       "      <td>37</td>\n",
       "      <td>industrial</td>\n",
       "      <td>farm</td>\n",
       "      <td>ftb</td>\n",
       "      <td>default</td>\n",
       "    </tr>\n",
       "    <tr>\n",
       "      <th>3</th>\n",
       "      <td>4</td>\n",
       "      <td>157800</td>\n",
       "      <td>67600</td>\n",
       "      <td>2.33</td>\n",
       "      <td>44</td>\n",
       "      <td>industrial</td>\n",
       "      <td>apartment</td>\n",
       "      <td>ftb</td>\n",
       "      <td>repay</td>\n",
       "    </tr>\n",
       "    <tr>\n",
       "      <th>4</th>\n",
       "      <td>5</td>\n",
       "      <td>150800</td>\n",
       "      <td>35800</td>\n",
       "      <td>4.21</td>\n",
       "      <td>39</td>\n",
       "      <td>professional</td>\n",
       "      <td>apartment</td>\n",
       "      <td>stb</td>\n",
       "      <td>default</td>\n",
       "    </tr>\n",
       "  </tbody>\n",
       "</table>\n",
       "</div>"
      ],
      "text/plain": [
       "   ID  Amount  Salary  Loan-Salary Ratio  Age    Occupation   Property Type  \\\n",
       "0   1  245100   66400               3.69   44    industrial       farm  stb   \n",
       "1   2   90600   75300               1.20   41    industrial       farm  stb   \n",
       "2   3  195600   52100               3.75   37    industrial       farm  ftb   \n",
       "3   4  157800   67600               2.33   44    industrial  apartment  ftb   \n",
       "4   5  150800   35800               4.21   39  professional  apartment  stb   \n",
       "\n",
       "   Outcome  \n",
       "0    repay  \n",
       "1    repay  \n",
       "2  default  \n",
       "3    repay  \n",
       "4  default  "
      ]
     },
     "execution_count": 66,
     "metadata": {},
     "output_type": "execute_result"
    }
   ],
   "source": [
    "# to see features and target variable\n",
    "data.head()"
   ]
  },
  {
   "cell_type": "markdown",
   "metadata": {},
   "source": [
    "## Inspecting the data"
   ]
  },
  {
   "cell_type": "code",
   "execution_count": 58,
   "metadata": {},
   "outputs": [
    {
     "name": "stdout",
     "output_type": "stream",
     "text": [
      "<class 'pandas.core.frame.DataFrame'>\n",
      "RangeIndex: 25 entries, 0 to 24\n",
      "Data columns (total 9 columns):\n",
      "ID                   25 non-null int64\n",
      "Amount               25 non-null int64\n",
      "Salary               25 non-null int64\n",
      "Loan-Salary Ratio    25 non-null float64\n",
      "Age                  25 non-null int64\n",
      "Occupation           25 non-null object\n",
      "Property             25 non-null object\n",
      "Type                 25 non-null object\n",
      "Outcome              25 non-null object\n",
      "dtypes: float64(1), int64(4), object(4)\n",
      "memory usage: 1.8+ KB\n"
     ]
    }
   ],
   "source": [
    "# We want to know if there are any NaN values and the length of this data so lets look at info.\n",
    "data.info()"
   ]
  },
  {
   "cell_type": "code",
   "execution_count": 59,
   "metadata": {},
   "outputs": [
    {
     "data": {
      "text/html": [
       "<div>\n",
       "<style scoped>\n",
       "    .dataframe tbody tr th:only-of-type {\n",
       "        vertical-align: middle;\n",
       "    }\n",
       "\n",
       "    .dataframe tbody tr th {\n",
       "        vertical-align: top;\n",
       "    }\n",
       "\n",
       "    .dataframe thead th {\n",
       "        text-align: right;\n",
       "    }\n",
       "</style>\n",
       "<table border=\"1\" class=\"dataframe\">\n",
       "  <thead>\n",
       "    <tr style=\"text-align: right;\">\n",
       "      <th></th>\n",
       "      <th>ID</th>\n",
       "      <th>Amount</th>\n",
       "      <th>Salary</th>\n",
       "      <th>Loan-Salary Ratio</th>\n",
       "      <th>Age</th>\n",
       "    </tr>\n",
       "  </thead>\n",
       "  <tbody>\n",
       "    <tr>\n",
       "      <th>count</th>\n",
       "      <td>25.000000</td>\n",
       "      <td>25.000000</td>\n",
       "      <td>25.000000</td>\n",
       "      <td>25.000000</td>\n",
       "      <td>25.000000</td>\n",
       "    </tr>\n",
       "    <tr>\n",
       "      <th>mean</th>\n",
       "      <td>13.000000</td>\n",
       "      <td>179460.000000</td>\n",
       "      <td>59220.000000</td>\n",
       "      <td>3.252000</td>\n",
       "      <td>36.360000</td>\n",
       "    </tr>\n",
       "    <tr>\n",
       "      <th>std</th>\n",
       "      <td>7.359801</td>\n",
       "      <td>49808.332636</td>\n",
       "      <td>12880.670272</td>\n",
       "      <td>1.478222</td>\n",
       "      <td>8.445314</td>\n",
       "    </tr>\n",
       "    <tr>\n",
       "      <th>min</th>\n",
       "      <td>1.000000</td>\n",
       "      <td>83000.000000</td>\n",
       "      <td>32300.000000</td>\n",
       "      <td>1.200000</td>\n",
       "      <td>17.000000</td>\n",
       "    </tr>\n",
       "    <tr>\n",
       "      <th>25%</th>\n",
       "      <td>7.000000</td>\n",
       "      <td>150800.000000</td>\n",
       "      <td>52100.000000</td>\n",
       "      <td>2.460000</td>\n",
       "      <td>30.000000</td>\n",
       "    </tr>\n",
       "    <tr>\n",
       "      <th>50%</th>\n",
       "      <td>13.000000</td>\n",
       "      <td>175200.000000</td>\n",
       "      <td>61100.000000</td>\n",
       "      <td>3.150000</td>\n",
       "      <td>37.000000</td>\n",
       "    </tr>\n",
       "    <tr>\n",
       "      <th>75%</th>\n",
       "      <td>19.000000</td>\n",
       "      <td>210000.000000</td>\n",
       "      <td>66400.000000</td>\n",
       "      <td>3.870000</td>\n",
       "      <td>43.000000</td>\n",
       "    </tr>\n",
       "    <tr>\n",
       "      <th>max</th>\n",
       "      <td>25.000000</td>\n",
       "      <td>284100.000000</td>\n",
       "      <td>79700.000000</td>\n",
       "      <td>8.800000</td>\n",
       "      <td>51.000000</td>\n",
       "    </tr>\n",
       "  </tbody>\n",
       "</table>\n",
       "</div>"
      ],
      "text/plain": [
       "              ID         Amount        Salary  Loan-Salary Ratio        Age\n",
       "count  25.000000      25.000000     25.000000          25.000000  25.000000\n",
       "mean   13.000000  179460.000000  59220.000000           3.252000  36.360000\n",
       "std     7.359801   49808.332636  12880.670272           1.478222   8.445314\n",
       "min     1.000000   83000.000000  32300.000000           1.200000  17.000000\n",
       "25%     7.000000  150800.000000  52100.000000           2.460000  30.000000\n",
       "50%    13.000000  175200.000000  61100.000000           3.150000  37.000000\n",
       "75%    19.000000  210000.000000  66400.000000           3.870000  43.000000\n",
       "max    25.000000  284100.000000  79700.000000           8.800000  51.000000"
      ]
     },
     "execution_count": 59,
     "metadata": {},
     "output_type": "execute_result"
    }
   ],
   "source": [
    "data.describe()"
   ]
  },
  {
   "cell_type": "code",
   "execution_count": 12,
   "metadata": {},
   "outputs": [
    {
     "data": {
      "text/plain": [
       "farm         10\n",
       "house         8\n",
       "apartment     7\n",
       "Name: Property, dtype: int64"
      ]
     },
     "execution_count": 12,
     "metadata": {},
     "output_type": "execute_result"
    },
    {
     "data": {
      "image/png": "[encoded data removed]",
      "text/plain": [
       "<Figure size 432x288 with 1 Axes>"
      ]
     },
     "metadata": {},
     "output_type": "display_data"
    }
   ],
   "source": [
    "sns.countplot(x=\"Property\", data=data)\n",
    "data.loc[:,'Property'].value_counts()"
   ]
  },
  {
   "cell_type": "code",
   "execution_count": 11,
   "metadata": {},
   "outputs": [
    {
     "data": {
      "image/png": "[encoded data removed]",
      "text/plain": [
       "<Figure size 720x720 with 1 Axes>"
      ]
     },
     "metadata": {},
     "output_type": "display_data"
    }
   ],
   "source": [
    "x = np.array(data.loc[:,'Age']).reshape(-1,1)\n",
    "y = np.array(data.loc[:,'Amount']).reshape(-1,1)\n",
    "\n",
    "plt.figure(figsize=[10,10])\n",
    "plt.scatter(x=x,y=y)\n",
    "plt.xlabel('Age')\n",
    "plt.ylabel('Amount')\n",
    "plt.show()"
   ]
  },
  {
   "cell_type": "markdown",
   "metadata": {},
   "source": [
    "## Fitting a model"
   ]
  },
  {
   "cell_type": "code",
   "execution_count": 10,
   "metadata": {},
   "outputs": [
    {
     "name": "stdout",
     "output_type": "stream",
     "text": [
      "R^2 score:  0.01936181837808726\n"
     ]
    },
    {
     "data": {
      "image/png": "[encoded data removed]",
      "text/plain": [
       "<Figure size 432x288 with 1 Axes>"
      ]
     },
     "metadata": {},
     "output_type": "display_data"
    }
   ],
   "source": [
    "# LinearRegression\n",
    "from sklearn.linear_model import LinearRegression\n",
    "reg = LinearRegression()\n",
    "# Predict space\n",
    "predict_space = np.linspace(min(x), max(x)).reshape(-1,1)\n",
    "# Fit\n",
    "reg.fit(x,y)\n",
    "# Predict\n",
    "predicted = reg.predict(predict_space)\n",
    "# R^2 \n",
    "print('R^2 score: ',reg.score(x, y))\n",
    "# Plot regression line and scatter\n",
    "plt.plot(predict_space, predicted, color='black', linewidth=3)\n",
    "plt.scatter(x=x,y=y)\n",
    "plt.xlabel('Income')\n",
    "plt.ylabel('Age')\n",
    "plt.show()"
   ]
  },
  {
   "cell_type": "code",
   "execution_count": null,
   "metadata": {},
   "outputs": [],
   "source": []
  }
 ],
 "metadata": {
  "kernelspec": {
   "display_name": "Python 3",
   "language": "python",
   "name": "python3"
  },
  "language_info": {
   "codemirror_mode": {
    "name": "ipython",
    "version": 3
   },
   "file_extension": ".py",
   "mimetype": "text/x-python",
   "name": "python",
   "nbconvert_exporter": "python",
   "pygments_lexer": "ipython3",
   "version": "3.7.3"
  }
 },
 "nbformat": 4,
 "nbformat_minor": 4
}
